{
 "cells": [
  {
   "cell_type": "code",
   "execution_count": 22,
   "metadata": {},
   "outputs": [],
   "source": [
    "from bs4 import BeautifulSoup\n",
    "import requests\n",
    "from urllib import urlopen\n",
    "from time import sleep\n",
    "import pandas as pd"
   ]
  },
  {
   "cell_type": "code",
   "execution_count": 23,
   "metadata": {},
   "outputs": [],
   "source": [
    "pd.set_option('display.max_columns', 500)"
   ]
  },
  {
   "cell_type": "markdown",
   "metadata": {},
   "source": [
    "### Scraping NFL team Data"
   ]
  },
  {
   "cell_type": "code",
   "execution_count": 33,
   "metadata": {},
   "outputs": [],
   "source": [
    "def teamSite(team):\n",
    "    return \"https://www.pro-football-reference.com/teams/{team}/2017_games.htm\".format(team=team)\n",
    "\n",
    "def getTeamData(team):\n",
    "    \n",
    "    html = urlopen(teamSite(team)) # DL webpage\n",
    "    soup = BeautifulSoup(html, \"html5lib\") # get html\n",
    "    table = soup.find('table', attrs= {'class': \"sortable stats_table\"}) # get Team data table\n",
    "\n",
    "    cols = ['day','Date','Time','bs','Win','OT','Rec','At','Opp','PF','PA','1stD','TotYd','PassY','RushY','TO',\n",
    "            'o1stD','oTotYd','oPassY','oRushY','oTO','Off','Def','Sp.Tms'] # Columns available\n",
    "\n",
    "    team_data = []\n",
    "    for row in table.findAll('tr'): # foreach table row (game)\n",
    "        game_data = []\n",
    "        for cell in row.findAll('td'): #append table data (stat)\n",
    "            game_data.append(cell.text)\n",
    "        if (game_data != []):\n",
    "            team_data.append(game_data)\n",
    "\n",
    "    team_table = pd.DataFrame(team_data, columns=cols) # create table\n",
    "    return team_table.drop(['day','bs','o1stD','oTotYd','oPassY','oRushY','oTO','Off','Def','Sp.Tms'],axis=1)\n",
    "    "
   ]
  },
  {
   "cell_type": "code",
   "execution_count": 34,
   "metadata": {
    "collapsed": true
   },
   "outputs": [
    {
     "name": "stdout",
     "output_type": "stream",
     "text": [
      "pit\n",
      "rav\n",
      "cin\n",
      "cle\n",
      "nwe\n",
      "buf\n",
      "mia\n",
      "nyj\n",
      "jax\n",
      "oti\n",
      "htx\n",
      "clt\n",
      "kan\n",
      "sdg\n",
      "rai\n",
      "den\n",
      "min\n",
      "det\n",
      "gnb\n",
      "chi\n",
      "phi\n",
      "dal\n",
      "was\n",
      "nyg\n",
      "car\n",
      "nor\n",
      "atl\n",
      "tam\n",
      "ram\n",
      "sea\n",
      "crd\n",
      "sfo\n"
     ]
    }
   ],
   "source": [
    "teamList = [\n",
    "    'pit', 'rav', 'cin', 'cle', 'nwe', 'buf', 'mia', 'nyj', 'jax', 'oti', 'htx', 'clt', 'kan', 'sdg', 'rai', 'den',\n",
    "    'min', 'det', 'gnb', 'chi', 'phi', 'dal', 'was', 'nyg', 'car', 'nor', 'atl', 'tam', 'ram', 'sea', 'crd', 'sfo']\n",
    "nflData = {} # Contains data for each team\n",
    "for team in teamList:\n",
    "    print team\n",
    "    try:\n",
    "        nflData[team] = getTeamData(team)\n",
    "    except:\n",
    "        print \"FAILED:\", team"
   ]
  },
  {
   "cell_type": "code",
   "execution_count": 61,
   "metadata": {},
   "outputs": [],
   "source": [
    "def toFloat(series):\n",
    "    return series.map(lambda x: 0 if x == \"\" else float(x))\n",
    "\n",
    "for i in nflData:\n",
    "    nflData[i]['result'] = toFloat(nflData[i]['PF']) / (toFloat(nflData[i]['PF']) + toFloat(nflData[i]['PA']))"
   ]
  },
  {
   "cell_type": "code",
   "execution_count": 38,
   "metadata": {},
   "outputs": [],
   "source": [
    "# getting a list of all full team names\n",
    "all_teams = []\n",
    "for team in nflData.keys():\n",
    "    all_teams += list(nflData[team]['Opp'])\n",
    "all_teams = list(set(all_teams))"
   ]
  },
  {
   "cell_type": "code",
   "execution_count": 40,
   "metadata": {},
   "outputs": [],
   "source": [
    "teamMap = {\n",
    "    u'New Orleans Saints' : 'nor',\n",
    "     u'Pittsburgh Steelers' : 'pit',\n",
    "     u'New England Patriots' : 'nwe',\n",
    "     u'Tampa Bay Buccaneers' : 'tam',\n",
    "     u'Philadelphia Eagles' : 'phi',\n",
    "     u'Atlanta Falcons' : 'atl',\n",
    "     u'Cleveland Browns' : 'cle',\n",
    "     u'Cincinnati Bengals' : 'cin',\n",
    "     u'Los Angeles Chargers' : 'sdg',\n",
    "     u'Oakland Raiders' : 'rai',\n",
    "     u'Buffalo Bills' : 'buf',\n",
    "     u'New York Giants' : 'nyg',\n",
    "     u'Detroit Lions' : 'det',\n",
    "     u'Bye Week' : 'None',\n",
    "     u'Los Angeles Rams' : 'ram',\n",
    "     u'Carolina Panthers' : 'car',\n",
    "     u'San Francisco 49ers' : 'sfo',\n",
    "     u'Washington Redskins' : 'was',\n",
    "     u'Seattle Seahawks' : 'sea',\n",
    "     u'Arizona Cardinals' : 'crd',\n",
    "     u'Houston Texans' : 'htx',\n",
    "     u'Tennessee Titans' : 'oti',\n",
    "     u'Jacksonville Jaguars' : 'jax',\n",
    "     u'Chicago Bears' : 'chi',\n",
    "     u'Indianapolis Colts' : 'clt',\n",
    "     u'Miami Dolphins' : 'mia',\n",
    "     u'New York Jets' : 'nyj',\n",
    "     u'Baltimore Ravens' : 'rav',\n",
    "     u'Kansas City Chiefs' : 'kan',\n",
    "     u'Denver Broncos' : 'den',\n",
    "     u'Green Bay Packers' : 'gnb',\n",
    "     u'Minnesota Vikings' : 'min',\n",
    "     u'Dallas Cowboys' :'dal'\n",
    "}"
   ]
  },
  {
   "cell_type": "code",
   "execution_count": null,
   "metadata": {},
   "outputs": [],
   "source": []
  },
  {
   "cell_type": "code",
   "execution_count": null,
   "metadata": {},
   "outputs": [],
   "source": []
  },
  {
   "cell_type": "markdown",
   "metadata": {},
   "source": [
    "### Creating Glicko Module"
   ]
  },
  {
   "cell_type": "code",
   "execution_count": 13,
   "metadata": {},
   "outputs": [],
   "source": [
    "import math"
   ]
  },
  {
   "cell_type": "code",
   "execution_count": 14,
   "metadata": {},
   "outputs": [],
   "source": [
    "WIN = 1.0\n",
    "TIE = 0.5\n",
    "LOSS = 0.0\n",
    "\n",
    "MU = 1500\n",
    "PHI = 350\n",
    "SIGMA = 0.06\n",
    "TAU = 1.0\n",
    "EPSILON = 0.000001\n",
    "Q = math.log(10)/ 400.0"
   ]
  },
  {
   "cell_type": "code",
   "execution_count": null,
   "metadata": {},
   "outputs": [],
   "source": []
  },
  {
   "cell_type": "code",
   "execution_count": 15,
   "metadata": {},
   "outputs": [],
   "source": [
    "class Rating(object):\n",
    "    \n",
    "    def __init__(self, mu=MU, phi=PHI, sigma=SIGMA):\n",
    "        self.mu = mu\n",
    "        self.phi = phi\n",
    "        self.sigma = sigma\n",
    "        \n",
    "    def __repr__(self):\n",
    "        c = type(self)\n",
    "        args = (c.__module__, c.__name__, self.mu, self.phi, self.sigma)\n",
    "        return '%s.%s(mu=%.3f, phi=%.3f, sigma=%.3f)' % (args)\n",
    "    \n"
   ]
  },
  {
   "cell_type": "markdown",
   "metadata": {},
   "source": [
    "## Glicko2 Object"
   ]
  },
  {
   "cell_type": "code",
   "execution_count": 118,
   "metadata": {},
   "outputs": [],
   "source": [
    "class Glicko2(object):\n",
    "    \n",
    "    def __init__(self, mu=MU, phi=PHI, sigma=SIGMA, tau=TAU, epsilon=EPSILON):\n",
    "        self.mu = mu\n",
    "        self.phi = phi\n",
    "        self.sigma = sigma\n",
    "        self.tau = tau\n",
    "        self.epsilon = epsilon\n",
    "    \n",
    "    def create_rating(self, mu=None, phi=None, sigma=None):\n",
    "        if mu is None:\n",
    "            mu = self.mu\n",
    "        if phi is None:\n",
    "            phi = self.phi\n",
    "        if sigma is None:\n",
    "            sigma = self.sigma\n",
    "        return Rating(mu, phi, sigma)\n",
    "    \n",
    "    def scale_up(self, rating, ratio=173.7178):\n",
    "        mu = rating.mu * ratio + self.mu\n",
    "        phi = rating.phi * ratio\n",
    "        return self.create_rating(mu, phi, rating.sigma)\n",
    "    def scale_down(self, rating, ratio=173.7178):\n",
    "        mu = (rating.mu - self.mu) / ratio\n",
    "        phi = rating.phi / ratio\n",
    "        return self.create_rating(mu, phi, rating.sigma)\n",
    "    \n",
    "    def reduce_impact(self, rating):\n",
    "        \"\"\"The original form is `g(RD)`. This function reduces the impact of\n",
    "        games as a function of an opponent's RD.\n",
    "        \"\"\"\n",
    "        return 1 / math.sqrt(1 + (3 * rating.phi ** 2) / (math.pi ** 2))\n",
    "    \n",
    "    def expect_score(self, rating, other_rating, impact):\n",
    "        return 1.0 / (1 + math.exp(-impact * (rating.mu - other_rating.mu)))\n",
    "    \n",
    "    def determine_sigma(self, rating, difference, variance):\n",
    "        \"\"\"Determines new sigma.\"\"\"\n",
    "        phi = rating.phi\n",
    "        difference_squared = difference ** 2\n",
    "        # 1. Let a = ln(s^2), and define f(x)\n",
    "        alpha = math.log(rating.sigma ** 2)\n",
    "        def f(x):\n",
    "            \"\"\"This function is twice the conditional log-posterior density of\n",
    "            phi, and is the optimality criterion.\n",
    "            \"\"\"\n",
    "            tmp = phi ** 2 + variance + math.exp(x)\n",
    "            a = math.exp(x) * (difference_squared - tmp) / (2 * tmp ** 2)\n",
    "            b = (x - alpha) / (self.tau ** 2)\n",
    "            return a - b\n",
    "        # 2. Set the initial values of the iterative algorithm.\n",
    "        a = alpha\n",
    "        if difference_squared > phi ** 2 + variance:\n",
    "            b = math.log(difference_squared - phi ** 2 - variance)\n",
    "        else:\n",
    "            k = 1\n",
    "            while f(alpha - k * math.sqrt(self.tau ** 2)) < 0:\n",
    "                k += 1\n",
    "            b = alpha - k * math.sqrt(self.tau ** 2)\n",
    "        # 3. Let fA = f(A) and f(B) = f(B)\n",
    "        f_a, f_b = f(a), f(b)\n",
    "        # 4. While |B-A| > e, carry out the following steps.\n",
    "        # (a) Let C = A + (A - B)fA / (fB-fA), and let fC = f(C).\n",
    "        # (b) If fCfB < 0, then set A <- B and fA <- fB; otherwise, just set\n",
    "        #     fA <- fA/2.\n",
    "        # (c) Set B <- C and fB <- fC.\n",
    "        # (d) Stop if |B-A| <= e. Repeat the above three steps otherwise.\n",
    "        while abs(b - a) > self.epsilon:\n",
    "            c = a + (a - b) * f_a / (f_b - f_a)\n",
    "            f_c = f(c)\n",
    "            if f_c * f_b < 0:\n",
    "                a, f_a = b, f_b\n",
    "            else:\n",
    "                f_a /= 2\n",
    "            b, f_b = c, f_c\n",
    "        # 5. Once |B-A| <= e, set s' <- e^(A/2)\n",
    "        return math.exp(1) ** (a / 2)\n",
    "    \n",
    "    def rate(self, rating, series):\n",
    "            # Step 2. For each player, convert the rating and RD's onto the\n",
    "            #         Glicko-2 scale.\n",
    "            rating = self.scale_down(rating)\n",
    "            # Step 3. Compute the quantity v. This is the estimated variance of the\n",
    "            #         team's/player's rating based only on game outcomes.\n",
    "            # Step 4. Compute the quantity difference, the estimated improvement in\n",
    "            #         rating by comparing the pre-period rating to the performance\n",
    "            #         rating based only on game outcomes.\n",
    "            d_square_inv = 0\n",
    "            variance_inv = 0\n",
    "            difference = 0\n",
    "            for actual_score, other_rating in series:\n",
    "                other_rating = self.scale_down(other_rating)\n",
    "                impact = self.reduce_impact(other_rating)\n",
    "                expected_score = self.expect_score(rating, other_rating, impact)\n",
    "                variance_inv += impact ** 2 * expected_score * (1 - expected_score)\n",
    "                difference += impact * (actual_score - expected_score)\n",
    "                d_square_inv += (\n",
    "                    expected_score * (1 - expected_score) *\n",
    "                    (Q ** 2) * (impact ** 2))\n",
    "            difference /= variance_inv\n",
    "            variance = 1. / variance_inv\n",
    "            denom = rating.phi ** -2 + d_square_inv\n",
    "            mu = rating.mu + Q / denom * (difference / variance_inv)\n",
    "            phi = math.sqrt(1 / denom)\n",
    "            # Step 5. Determine the new value, Sigma', ot the sigma. This\n",
    "            #         computation requires iteration.\n",
    "            sigma = self.determine_sigma(rating, difference, variance)\n",
    "            # Step 6. Update the rating deviation to the new pre-rating period\n",
    "            #         value, Phi*.\n",
    "            phi_star = math.sqrt(phi ** 2 + sigma ** 2)\n",
    "            # Step 7. Update the rating and RD to the new values, Mu' and Phi'.\n",
    "            phi = 1 / math.sqrt(1 / phi_star ** 2 + 1 / variance)\n",
    "            mu = rating.mu + phi ** 2 * (difference / variance)\n",
    "            # Step 8. Convert ratings and RD's back to original scale.\n",
    "            return self.scale_up(self.create_rating(mu, phi, sigma))\n",
    "\n",
    " \n"
   ]
  },
  {
   "cell_type": "markdown",
   "metadata": {},
   "source": [
    "### Rate Player in a series"
   ]
  },
  {
   "cell_type": "code",
   "execution_count": null,
   "metadata": {},
   "outputs": [],
   "source": []
  },
  {
   "cell_type": "code",
   "execution_count": 119,
   "metadata": {},
   "outputs": [],
   "source": [
    "def rate_1vs1(self, rating1, rating2, drawn=False):\n",
    "    return (self.rate(rating1, [(DRAW if drawn else WIN, rating2)]),\n",
    "            self.rate(rating2, [(DRAW if drawn else LOSS, rating1)]))\n",
    "\n",
    "def quality_1vs1(self, rating1, rating2):\n",
    "    expected_score1 = self.expect_score(rating1, rating2, self.reduce_impact(rating1))\n",
    "    expected_score2 = self.expect_score(rating2, rating1, self.reduce_impact(rating2))\n",
    "    expected_score = (expected_score1 + expected_score2) / 2\n",
    "    return 2 * (0.5 - abs(0.5 - expected_score))"
   ]
  },
  {
   "cell_type": "code",
   "execution_count": 217,
   "metadata": {},
   "outputs": [],
   "source": [
    "class Team(object):\n",
    "    def toFloat(series):\n",
    "        return series.map(lambda x: 0 if x == \"\" else float(x))\n",
    "    \n",
    "    def winValue(self):\n",
    "        return toFloat(self.data['PF']) / (toFloat(self.data['PF']) + toFloat(self.data['PA']))\n",
    "    \n",
    "    def __init__(self, name):\n",
    "        self.name = name\n",
    "        self.rating = Rating()\n",
    "        self.data = getTeamData(name)\n",
    "        self.data['result'] = self.winValue()\n",
    "        \n",
    "    def __repr__(self):\n",
    "        return self.name + \": \" + self.rating.__repr__()\n",
    "        \n",
    "    def getSchedule(self):\n",
    "        return map(lambda x: teamMap[x], list(nflData[self.name]['Opp']))\n",
    "    \n",
    "    def getResults(self):\n",
    "        return list(self.data.dropna().apply(lambda row: (teamMap[row['Opp']], row['result']), axis=1)) \n",
    "    \n",
    "    def getOnlyResults(self):\n",
    "        return list(self.data['result'].dropna())\n",
    "    \n",
    "    def getMatchResult(self, opp):\n",
    "        for tm in self.getResults():\n",
    "            if opp == tm[0]:\n",
    "                return tm[1]"
   ]
  },
  {
   "cell_type": "code",
   "execution_count": null,
   "metadata": {},
   "outputs": [],
   "source": []
  },
  {
   "cell_type": "markdown",
   "metadata": {},
   "source": [
    "### Ranking Teams By week"
   ]
  },
  {
   "cell_type": "code",
   "execution_count": 218,
   "metadata": {},
   "outputs": [],
   "source": [
    "teamData = {}\n",
    "for team in teamList:\n",
    "    teamData[team] = Team(team)\n",
    "    series = []"
   ]
  },
  {
   "cell_type": "code",
   "execution_count": 159,
   "metadata": {
    "scrolled": false
   },
   "outputs": [
    {
     "data": {
      "text/plain": [
       "17"
      ]
     },
     "execution_count": 159,
     "metadata": {},
     "output_type": "execute_result"
    }
   ],
   "source": [
    "sea = teamData['sea']\n",
    "len(sea.getSchedule())"
   ]
  },
  {
   "cell_type": "code",
   "execution_count": 219,
   "metadata": {},
   "outputs": [],
   "source": [
    "matchups = []\n",
    "for week in range(17):\n",
    "    weekly_matchups = set()\n",
    "    for team in teamList:\n",
    "        try:\n",
    "            match = tuple(sorted((team, teamData[team].getSchedule()[week])))\n",
    "            weekly_matchups.add(match)\n",
    "        except:\n",
    "            continue\n",
    "    matchups.append(weekly_matchups)"
   ]
  },
  {
   "cell_type": "code",
   "execution_count": 240,
   "metadata": {
    "scrolled": true
   },
   "outputs": [],
   "source": [
    "env = Glicko2(tau=0.5)\n",
    "for week in matchups:\n",
    "    for team1,team2 in week:\n",
    "        if team1 == 'None' or team2 == 'None':\n",
    "            continue\n",
    "        result = teamData[team1].getMatchResult(team2)\n",
    "        if not result:\n",
    "            continue\n",
    "        r1 = env.rate(teamData[team1].rating, [(result, teamData[team2].rating)])\n",
    "        r2 = env.rate(teamData[team2].rating, [(1 - result, teamData[team1].rating)])\n",
    "        teamData[team1].rating = r1\n",
    "        teamData[team2].rating = r2\n",
    "        \n",
    "    "
   ]
  },
  {
   "cell_type": "code",
   "execution_count": 246,
   "metadata": {},
   "outputs": [],
   "source": [
    "def reverse_dict(dic):\n",
    "    rev_dict = {}\n",
    "    for key in dic.keys():\n",
    "        rev_dict[dic[key]] = key\n",
    "    return rev_dict"
   ]
  },
  {
   "cell_type": "code",
   "execution_count": 248,
   "metadata": {
    "scrolled": true
   },
   "outputs": [],
   "source": [
    "revteamMap = reverse_dict(teamMap)"
   ]
  },
  {
   "cell_type": "code",
   "execution_count": 261,
   "metadata": {},
   "outputs": [],
   "source": [
    "def winProbability(team, opp):\n",
    "    env = Glicko2(tau=0.5)\n",
    "    return env.expect_score(teamData[team].rating, teamData[opp].rating, env.reduce_impact(teamData[opp].rating))\n",
    "    "
   ]
  },
  {
   "cell_type": "code",
   "execution_count": 267,
   "metadata": {},
   "outputs": [
    {
     "data": {
      "text/plain": [
       "0.7310737935457812"
      ]
     },
     "execution_count": 267,
     "metadata": {},
     "output_type": "execute_result"
    }
   ],
   "source": [
    "winProbability('jax', 'sea')"
   ]
  },
  {
   "cell_type": "code",
   "execution_count": null,
   "metadata": {},
   "outputs": [],
   "source": []
  },
  {
   "cell_type": "code",
   "execution_count": 258,
   "metadata": {},
   "outputs": [
    {
     "data": {
      "text/plain": [
       "[(u'Cleveland Browns', 1377.93),\n",
       " (u'Indianapolis Colts', 1394.03),\n",
       " (u'New York Giants', 1415.02),\n",
       " (u'Tennessee Titans', 1434.75),\n",
       " (u'Cincinnati Bengals', 1436.83),\n",
       " (u'Miami Dolphins', 1439.84),\n",
       " (u'San Francisco 49ers', 1440.14),\n",
       " (u'Tampa Bay Buccaneers', 1456.05),\n",
       " (u'Arizona Cardinals', 1458.55),\n",
       " (u'Houston Texans', 1463.97),\n",
       " (u'Oakland Raiders', 1470.16),\n",
       " (u'Chicago Bears', 1471.2),\n",
       " (u'Denver Broncos', 1477.39),\n",
       " (u'New York Jets', 1484.6),\n",
       " (u'Green Bay Packers', 1495.54),\n",
       " (u'Buffalo Bills', 1502.19),\n",
       " (u'Los Angeles Chargers', 1506.7),\n",
       " (u'Dallas Cowboys', 1506.8),\n",
       " (u'Washington Redskins', 1515.64),\n",
       " (u'Baltimore Ravens', 1516.45),\n",
       " (u'Seattle Seahawks', 1527.81),\n",
       " (u'Atlanta Falcons', 1531.9),\n",
       " (u'Detroit Lions', 1532.59),\n",
       " (u'Kansas City Chiefs', 1541.54),\n",
       " (u'Los Angeles Rams', 1546.72),\n",
       " (u'Pittsburgh Steelers', 1555.47),\n",
       " (u'Minnesota Vikings', 1563.04),\n",
       " (u'Jacksonville Jaguars', 1566.09),\n",
       " (u'Carolina Panthers', 1578.67),\n",
       " (u'Philadelphia Eagles', 1578.91),\n",
       " (u'New England Patriots', 1595.14),\n",
       " (u'New Orleans Saints', 1614.43)]"
      ]
     },
     "execution_count": 258,
     "metadata": {},
     "output_type": "execute_result"
    }
   ],
   "source": [
    "allRatings = []\n",
    "for team in teamList:\n",
    "    allRatings.append([teamData[team].name, teamData[team].rating.mu])\n",
    "map(lambda x: (revteamMap[x[0]], round(x[1], 2)), sorted(allRatings, key=lambda tup: tup[1]))"
   ]
  },
  {
   "cell_type": "code",
   "execution_count": 238,
   "metadata": {},
   "outputs": [
    {
     "data": {
      "text/plain": [
       "['jax',\n",
       " 'cin',\n",
       " 'nwe',\n",
       " 'oti',\n",
       " 'kan',\n",
       " 'cle',\n",
       " 'None',\n",
       " 'sea',\n",
       " 'clt',\n",
       " 'ram',\n",
       " 'crd',\n",
       " 'rav',\n",
       " 'oti',\n",
       " 'sfo',\n",
       " 'jax',\n",
       " 'pit',\n",
       " 'clt']"
      ]
     },
     "execution_count": 238,
     "metadata": {},
     "output_type": "execute_result"
    }
   ],
   "source": [
    "teamData[team1].getSchedule()"
   ]
  },
  {
   "cell_type": "code",
   "execution_count": 232,
   "metadata": {},
   "outputs": [
    {
     "data": {
      "text/plain": [
       "pit: __main__.Rating(mu=1562.706, phi=86.773, sigma=0.060)"
      ]
     },
     "execution_count": 232,
     "metadata": {},
     "output_type": "execute_result"
    }
   ],
   "source": [
    "teamData[team2]"
   ]
  },
  {
   "cell_type": "code",
   "execution_count": null,
   "metadata": {},
   "outputs": [],
   "source": [
    "def test_glickman_example():\n",
    "    env = Glicko2(tau=0.5)\n",
    "    r1 = env.create_rating(1500, 200, 0.06)\n",
    "    r2 = env.create_rating(1400, 30)\n",
    "    r3 = env.create_rating(1550, 100)\n",
    "    r4 = env.create_rating(1700, 300)\n",
    "    rated = env.rate(r1, [(WIN, r2), (LOSS, r3), (LOSS, r4)])\n",
    "    # env.create_rating2(1464.06, 151.52, 0.05999)\n",
    "    assert almost(rated) == env.create_rating(1464.051, 151.515, 0.05999)"
   ]
  },
  {
   "cell_type": "markdown",
   "metadata": {},
   "source": [
    "### Ranking teams with static elo comparison"
   ]
  },
  {
   "cell_type": "code",
   "execution_count": 144,
   "metadata": {},
   "outputs": [],
   "source": [
    "allData = {}\n",
    "for team in teamList:\n",
    "    allData[team] = Team(team)\n",
    "    series = []\n",
    "    for i in allData[team].getOnlyResults():\n",
    "        series.append((i, env.create_rating(1500, 350, 0.06)))\n",
    "\n",
    "    final_rating = env.rate(allData[team].rating, series)\n",
    "    allData[team].rating = final_rating"
   ]
  },
  {
   "cell_type": "code",
   "execution_count": 145,
   "metadata": {},
   "outputs": [
    {
     "data": {
      "text/plain": [
       "sea: __main__.Rating(mu=1535.057, phi=125.211, sigma=0.060)"
      ]
     },
     "execution_count": 145,
     "metadata": {},
     "output_type": "execute_result"
    }
   ],
   "source": [
    "allData['sea']"
   ]
  },
  {
   "cell_type": "code",
   "execution_count": 256,
   "metadata": {},
   "outputs": [
    {
     "data": {
      "text/plain": [
       "[(u'Cleveland Browns', 1358.0),\n",
       " (u'New York Giants', 1375.34),\n",
       " (u'Indianapolis Colts', 1389.04),\n",
       " (u'Miami Dolphins', 1411.54),\n",
       " (u'San Francisco 49ers', 1432.21),\n",
       " (u'Cincinnati Bengals', 1432.57),\n",
       " (u'Green Bay Packers', 1440.82),\n",
       " (u'Denver Broncos', 1442.23),\n",
       " (u'Houston Texans', 1443.26),\n",
       " (u'New York Jets', 1444.16),\n",
       " (u'Oakland Raiders', 1458.19),\n",
       " (u'Tampa Bay Buccaneers', 1459.2),\n",
       " (u'Buffalo Bills', 1464.2),\n",
       " (u'Arizona Cardinals', 1469.32),\n",
       " (u'Chicago Bears', 1480.3),\n",
       " (u'Tennessee Titans', 1487.52),\n",
       " (u'Washington Redskins', 1491.54),\n",
       " (u'Atlanta Falcons', 1506.83),\n",
       " (u'Dallas Cowboys', 1513.59),\n",
       " (u'Detroit Lions', 1523.19),\n",
       " (u'Seattle Seahawks', 1535.06),\n",
       " (u'Kansas City Chiefs', 1542.16),\n",
       " (u'Carolina Panthers', 1546.49),\n",
       " (u'Pittsburgh Steelers', 1551.24),\n",
       " (u'Los Angeles Chargers', 1557.89),\n",
       " (u'New Orleans Saints', 1598.47),\n",
       " (u'Minnesota Vikings', 1599.37),\n",
       " (u'Baltimore Ravens', 1600.51),\n",
       " (u'Los Angeles Rams', 1602.03),\n",
       " (u'Philadelphia Eagles', 1604.86),\n",
       " (u'New England Patriots', 1609.44),\n",
       " (u'Jacksonville Jaguars', 1632.78)]"
      ]
     },
     "execution_count": 256,
     "metadata": {},
     "output_type": "execute_result"
    }
   ],
   "source": [
    "sorted_data = []\n",
    "for team in allData:\n",
    "    sorted_data.append([team, allData[team].rating.mu])\n",
    "map(lambda x: (revteamMap[x[0]], round(x[1], 2)), sorted(sorted_data, key=lambda tup: tup[1])) "
   ]
  },
  {
   "cell_type": "code",
   "execution_count": null,
   "metadata": {},
   "outputs": [],
   "source": []
  },
  {
   "cell_type": "code",
   "execution_count": null,
   "metadata": {},
   "outputs": [],
   "source": []
  },
  {
   "cell_type": "code",
   "execution_count": null,
   "metadata": {},
   "outputs": [],
   "source": []
  },
  {
   "cell_type": "markdown",
   "metadata": {},
   "source": [
    "### Rough Stuff"
   ]
  },
  {
   "cell_type": "code",
   "execution_count": null,
   "metadata": {},
   "outputs": [],
   "source": [
    "for i in table.findAll('tr'):\n",
    "    for j in i.findAll('th'):\n",
    "        pass\n",
    "#         print j\n",
    "\n",
    "for i in table.findAll('tr'):\n",
    "    for j in i.findAll('th', attrs={\"scope\":\"col\"}):\n",
    "        pass\n",
    "#         print j.text\n",
    "#         if 'poptip' in j:\n",
    "#             print j.text"
   ]
  }
 ],
 "metadata": {
  "kernelspec": {
   "display_name": "Python 2",
   "language": "python",
   "name": "python2"
  },
  "language_info": {
   "codemirror_mode": {
    "name": "ipython",
    "version": 2
   },
   "file_extension": ".py",
   "mimetype": "text/x-python",
   "name": "python",
   "nbconvert_exporter": "python",
   "pygments_lexer": "ipython2",
   "version": "2.7.12"
  }
 },
 "nbformat": 4,
 "nbformat_minor": 2
}
